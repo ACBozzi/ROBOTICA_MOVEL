{
  "nbformat": 4,
  "nbformat_minor": 0,
  "metadata": {
    "colab": {
      "provenance": []
    },
    "kernelspec": {
      "name": "python3",
      "display_name": "Python 3"
    },
    "language_info": {
      "name": "python"
    }
  },
  "cells": [
    {
      "cell_type": "code",
      "execution_count": 1,
      "metadata": {
        "id": "BT0dPBK7w-SG"
      },
      "outputs": [],
      "source": [
        "import math\n",
        "import numpy as np"
      ]
    },
    {
      "cell_type": "code",
      "source": [
        "# Parâmetros do robô\n",
        "diametro_rodas = 5  # cm\n",
        "comprimento_eixo = 20  # cm\n",
        "raio_rodas = diametro_rodas / 2\n",
        "resolucao_grid = 10  # cm"
      ],
      "metadata": {
        "id": "2KOrDa6rxD0Z"
      },
      "execution_count": 2,
      "outputs": []
    },
    {
      "cell_type": "code",
      "source": [
        "# Velocidade angular máxima das rodas\n",
        "velocidade_angular_maxima = 10  # rpm\n",
        "velocidade_angular_maxima_rad_s = 2 * math.pi * velocidade_angular_maxima / 60"
      ],
      "metadata": {
        "id": "jYV2s5pXxFlx"
      },
      "execution_count": 3,
      "outputs": []
    },
    {
      "cell_type": "code",
      "source": [
        "# Definindo as posições iniciais e finais\n",
        "pose_inicial = (0, 0, 0)  # (X, Y, Theta) em cm e graus\n",
        "pose_intermediaria = (4, 6, 45)  # (X, Y, Theta) em cm e graus\n",
        "pose_final = (6, 8, 90)  # (X, Y, Theta) em cm e graus"
      ],
      "metadata": {
        "id": "UfeBe_rzxI4o"
      },
      "execution_count": 4,
      "outputs": []
    },
    {
      "cell_type": "code",
      "source": [
        "# Função para calcular a matriz cinemática\n",
        "def calcular_matriz_cinemática(velocidade_linear, velocidade_angular, comprimento_eixo):\n",
        "    matriz_cinemática = np.array([\n",
        "        [raio_rodas / 2, raio_rodas / 2],\n",
        "        [raio_rodas / comprimento_eixo, -raio_rodas / comprimento_eixo]\n",
        "    ])\n",
        "    velocidades_roda = np.array([velocidade_linear, velocidade_angular])\n",
        "    velocidades = np.dot(matriz_cinemática, velocidades_roda)\n",
        "    return velocidades"
      ],
      "metadata": {
        "id": "7ZyVnSZMxLCM"
      },
      "execution_count": 5,
      "outputs": []
    },
    {
      "cell_type": "code",
      "source": [
        "# Função para planejar o movimento do robô\n",
        "def planejar_movimento(pose_inicial, pose_final, resolucao_grid, velocidade_angular_maxima_rad_s):\n",
        "    x_inicial, y_inicial, theta_inicial = pose_inicial\n",
        "    x_final, y_final, theta_final = pose_final\n",
        "\n",
        "    tempo_total = 0\n",
        "    movimentos = []\n",
        "\n",
        "    while True:\n",
        "        # Calcular a diferença entre as posições inicial e final\n",
        "        dx = x_final - x_inicial\n",
        "        dy = y_final - y_inicial\n",
        "        dtheta = math.radians(theta_final - theta_inicial)\n",
        "\n",
        "        # Calcular a velocidade linear e angular necessárias\n",
        "        distancia = math.sqrt(dx**2 + dy**2)\n",
        "        tempo = distancia / (resolucao_grid / 100)  # Converter resolução para metros\n",
        "        velocidade_linear = distancia / tempo\n",
        "        velocidade_angular = dtheta / tempo\n",
        "\n",
        "        # Verificar se a velocidade angular não excede a máxima\n",
        "        if abs(velocidade_angular) > velocidade_angular_maxima_rad_s:\n",
        "            velocidade_angular = math.copysign(velocidade_angular_maxima_rad_s, velocidade_angular)\n",
        "\n",
        "        # Adicionar o movimento à lista\n",
        "        movimentos.append((velocidade_linear, math.degrees(velocidade_angular)))\n",
        "\n",
        "        # Atualizar a posições inicial\n",
        "        x_inicial = x_final\n",
        "        y_inicial = y_final\n",
        "        theta_inicial = theta_final\n",
        "\n",
        "        tempo_total += tempo\n",
        "\n",
        "        # Verificar se alcançamos a posições final\n",
        "        if x_inicial == x_final and y_inicial == y_final and theta_inicial == theta_final:\n",
        "            break\n",
        "\n",
        "    return movimentos, tempo_total"
      ],
      "metadata": {
        "id": "U2qyEFiAxNtM"
      },
      "execution_count": 7,
      "outputs": []
    },
    {
      "cell_type": "code",
      "source": [
        "# Planejar o movimento do robô\n",
        "movimentos, tempo_total = planejar_movimento(pose_inicial, pose_intermediaria, resolucao_grid, velocidade_angular_maxima_rad_s)\n",
        "movimentos2, tempo_total2 = planejar_movimento(pose_intermediaria, pose_final, resolucao_grid, velocidade_angular_maxima_rad_s)\n",
        "\n",
        "# Imprimir os movimentos planejados\n",
        "print(\"Movimentos para a pose intermediária:\")\n",
        "for movimento in movimentos:\n",
        "    print(f\"Velocidade Linear: {movimento[0]:.2f} m/s, Velocidade Angular: {movimento[1]:.2f} rad/s\")\n",
        "\n",
        "print(\"\\nMovimentos para a pose final:\")\n",
        "for movimento in movimentos2:\n",
        "    print(f\"Velocidade Linear: {movimento[0]:.2f} m/s, Velocidade Angular: {movimento[1]:.2f} rad/s\")\n",
        "\n",
        "print(f\"\\nTempo total para alcançar a pose intermediária: {tempo_total:.2f} segundos\")\n",
        "print(f\"Tempo total para alcançar a pose final: {tempo_total2:.2f} segundos\")"
      ],
      "metadata": {
        "colab": {
          "base_uri": "https://localhost:8080/"
        },
        "id": "SgoB2fJyxQqA",
        "outputId": "540ddb5c-c4e3-42d6-e6c4-3e836bbddfc5"
      },
      "execution_count": 8,
      "outputs": [
        {
          "output_type": "stream",
          "name": "stdout",
          "text": [
            "Movimentos para a pose intermediária:\n",
            "Velocidade Linear: 0.10 m/s, Velocidade Angular: 0.62 rad/s\n",
            "\n",
            "Movimentos para a pose final:\n",
            "Velocidade Linear: 0.10 m/s, Velocidade Angular: 1.59 rad/s\n",
            "\n",
            "Tempo total para alcançar a pose intermediária: 72.11 segundos\n",
            "Tempo total para alcançar a pose final: 28.28 segundos\n"
          ]
        }
      ]
    }
  ]
}